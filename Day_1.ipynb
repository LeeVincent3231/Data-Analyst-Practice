{
  "cells": [
    {
      "cell_type": "markdown",
      "metadata": {
        "id": "ujrSEUKJIw1L"
      },
      "source": [
        "## Vectorization in NumPy\n",
        "Vectorizaion is operations performed on arrays as a whole instead of using a loop. It is much more efficent and faster in processing operations such as adding, subracting, multiplying."
      ]
    },
    {
      "cell_type": "code",
      "execution_count": null,
      "metadata": {
        "id": "61nxRhKzIw1N",
        "outputId": "b608e43d-459f-42ab-cfc9-cc6ee5cb2a0b"
      },
      "outputs": [
        {
          "name": "stdout",
          "output_type": "stream",
          "text": [
            "16.7 µs ± 168 ns per loop (mean ± std. dev. of 7 runs, 100,000 loops each)\n",
            "5.77 µs ± 20.7 ns per loop (mean ± std. dev. of 7 runs, 100,000 loops each)\n"
          ]
        }
      ],
      "source": [
        "import numpy as np\n",
        "\n",
        "arr = np.random.rand(100)\n",
        "\n",
        "# Pure python loop\n",
        "def variance_loop(a):\n",
        "    mean = sum(a)/len(a)\n",
        "    return sum((x - mean) ** 2 for x in a) / len(a)\n",
        "\n",
        "# Vectorization using numpy\n",
        "def variance_vec(a):\n",
        "    return np.var(a)\n",
        "\n",
        "# Process time of loop\n",
        "%timeit variance_loop(arr)\n",
        "\n",
        "# Process time of vectorization\n",
        "%timeit variance_vec(arr)"
      ]
    },
    {
      "cell_type": "code",
      "execution_count": null,
      "metadata": {
        "id": "BFbUKR3DIw1P",
        "outputId": "108ae0c9-b000-4fb4-eb91-c56d7cea3d30"
      },
      "outputs": [
        {
          "name": "stdout",
          "output_type": "stream",
          "text": [
            "[1.1194913376868507, 1.3013562400445657, 0.43488577541958384, 1.7639786040758947, 0.44351264272732327, 0.6325763935536668, 1.4532604112892815, 0.6106031644090735, 1.8715027403796978, 1.4567534521372005]\n",
            "[1.11949134 1.30135624 0.43488578 1.7639786  0.44351264 0.63257639\n",
            " 1.45326041 0.61060316 1.87150274 1.45675345]\n"
          ]
        }
      ],
      "source": [
        "arr2 = np.random.rand(10)\n",
        "\n",
        "def multiply_loop(a, b):\n",
        "    result = a.copy()  # Create a copy of the input array\n",
        "    for i in range(len(result)):\n",
        "        result[i] = result[i] * b  # Assign the result to the new array\n",
        "    return result\n",
        "\n",
        "def multiply_vec(a, b):\n",
        "    return a*b\n",
        "\n",
        "print(multiply_loop(arr2, 2))\n",
        "print(multiply_vec(arr2, 2))"
      ]
    },
    {
      "cell_type": "markdown",
      "metadata": {
        "id": "Pm_dlqkUIw1P"
      },
      "source": [
        "## Pandas Refreshers\n",
        "Review basic pandas functions such as groupby, agg, transform, apply, etc."
      ]
    },
    {
      "cell_type": "code",
      "execution_count": null,
      "metadata": {
        "id": "7n-KGXIbIw1Q"
      },
      "outputs": [],
      "source": [
        "# 1. Given a DataFrame df_orders(customer_id, order_date, revenue),\n",
        "# add a column order_rank that numbers each customer’s orders by recency (1 = newest).\n",
        "\n"
      ]
    }
  ],
  "metadata": {
    "kernelspec": {
      "display_name": "Python 3",
      "language": "python",
      "name": "python3"
    },
    "language_info": {
      "codemirror_mode": {
        "name": "ipython",
        "version": 3
      },
      "file_extension": ".py",
      "mimetype": "text/x-python",
      "name": "python",
      "nbconvert_exporter": "python",
      "pygments_lexer": "ipython3",
      "version": "3.11.4"
    },
    "colab": {
      "provenance": []
    }
  },
  "nbformat": 4,
  "nbformat_minor": 0
}