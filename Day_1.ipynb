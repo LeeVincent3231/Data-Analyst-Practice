{
  "cells": [
    {
      "cell_type": "markdown",
      "metadata": {
        "id": "ujrSEUKJIw1L"
      },
      "source": [
        "## Vectorization in NumPy\n",
        "Vectorizaion is operations performed on arrays as a whole instead of using a loop. It is much more efficent and faster in processing operations such as adding, subracting, multiplying."
      ]
    },
    {
      "cell_type": "code",
      "execution_count": 7,
      "metadata": {
        "id": "61nxRhKzIw1N",
        "outputId": "b608e43d-459f-42ab-cfc9-cc6ee5cb2a0b"
      },
      "outputs": [
        {
          "name": "stdout",
          "output_type": "stream",
          "text": [
            "16.4 µs ± 179 ns per loop (mean ± std. dev. of 7 runs, 100,000 loops each)\n",
            "5.79 µs ± 30 ns per loop (mean ± std. dev. of 7 runs, 100,000 loops each)\n"
          ]
        }
      ],
      "source": [
        "import numpy as np\n",
        "\n",
        "arr = np.random.rand(100)\n",
        "\n",
        "# Pure python loop\n",
        "def variance_loop(a):\n",
        "    mean = sum(a)/len(a)\n",
        "    return sum((x - mean) ** 2 for x in a) / len(a)\n",
        "\n",
        "# Vectorization using numpy\n",
        "def variance_vec(a):\n",
        "    return np.var(a)\n",
        "\n",
        "# Process time of loop\n",
        "%timeit variance_loop(arr)\n",
        "\n",
        "# Process time of vectorization\n",
        "%timeit variance_vec(arr)"
      ]
    },
    {
      "cell_type": "code",
      "execution_count": null,
      "metadata": {
        "id": "BFbUKR3DIw1P",
        "outputId": "108ae0c9-b000-4fb4-eb91-c56d7cea3d30"
      },
      "outputs": [
        {
          "name": "stdout",
          "output_type": "stream",
          "text": [
            "[1.1194913376868507, 1.3013562400445657, 0.43488577541958384, 1.7639786040758947, 0.44351264272732327, 0.6325763935536668, 1.4532604112892815, 0.6106031644090735, 1.8715027403796978, 1.4567534521372005]\n",
            "[1.11949134 1.30135624 0.43488578 1.7639786  0.44351264 0.63257639\n",
            " 1.45326041 0.61060316 1.87150274 1.45675345]\n"
          ]
        }
      ],
      "source": [
        "arr2 = np.random.rand(10)\n",
        "\n",
        "def multiply_loop(a, b):\n",
        "    result = a.copy()  # Create a copy of the input array\n",
        "    for i in range(len(result)):\n",
        "        result[i] = result[i] * b  # Assign the result to the new array\n",
        "    return result\n",
        "\n",
        "def multiply_vec(a, b):\n",
        "    return a*b\n",
        "\n",
        "print(multiply_loop(arr2, 2))\n",
        "print(multiply_vec(arr2, 2))"
      ]
    },
    {
      "cell_type": "markdown",
      "metadata": {
        "id": "Pm_dlqkUIw1P"
      },
      "source": [
        "## Pandas Refreshers\n",
        "Review basic pandas functions such as groupby, agg, transform, apply, etc."
      ]
    },
    {
      "cell_type": "code",
      "execution_count": 2,
      "metadata": {
        "id": "7n-KGXIbIw1Q"
      },
      "outputs": [
        {
          "data": {
            "text/html": [
              "<div>\n",
              "<style scoped>\n",
              "    .dataframe tbody tr th:only-of-type {\n",
              "        vertical-align: middle;\n",
              "    }\n",
              "\n",
              "    .dataframe tbody tr th {\n",
              "        vertical-align: top;\n",
              "    }\n",
              "\n",
              "    .dataframe thead th {\n",
              "        text-align: right;\n",
              "    }\n",
              "</style>\n",
              "<table border=\"1\" class=\"dataframe\">\n",
              "  <thead>\n",
              "    <tr style=\"text-align: right;\">\n",
              "      <th></th>\n",
              "      <th>customer_id</th>\n",
              "      <th>order_date</th>\n",
              "      <th>revenue</th>\n",
              "      <th>order_rank</th>\n",
              "    </tr>\n",
              "  </thead>\n",
              "  <tbody>\n",
              "    <tr>\n",
              "      <th>0</th>\n",
              "      <td>1</td>\n",
              "      <td>2023-01-01</td>\n",
              "      <td>100</td>\n",
              "      <td>2.0</td>\n",
              "    </tr>\n",
              "    <tr>\n",
              "      <th>1</th>\n",
              "      <td>2</td>\n",
              "      <td>2023-01-02</td>\n",
              "      <td>200</td>\n",
              "      <td>2.0</td>\n",
              "    </tr>\n",
              "    <tr>\n",
              "      <th>2</th>\n",
              "      <td>1</td>\n",
              "      <td>2023-01-03</td>\n",
              "      <td>150</td>\n",
              "      <td>1.0</td>\n",
              "    </tr>\n",
              "    <tr>\n",
              "      <th>3</th>\n",
              "      <td>3</td>\n",
              "      <td>2023-01-04</td>\n",
              "      <td>300</td>\n",
              "      <td>1.0</td>\n",
              "    </tr>\n",
              "    <tr>\n",
              "      <th>4</th>\n",
              "      <td>2</td>\n",
              "      <td>2023-01-05</td>\n",
              "      <td>250</td>\n",
              "      <td>1.0</td>\n",
              "    </tr>\n",
              "  </tbody>\n",
              "</table>\n",
              "</div>"
            ],
            "text/plain": [
              "   customer_id order_date  revenue  order_rank\n",
              "0            1 2023-01-01      100         2.0\n",
              "1            2 2023-01-02      200         2.0\n",
              "2            1 2023-01-03      150         1.0\n",
              "3            3 2023-01-04      300         1.0\n",
              "4            2 2023-01-05      250         1.0"
            ]
          },
          "execution_count": 2,
          "metadata": {},
          "output_type": "execute_result"
        }
      ],
      "source": [
        "# 1. Given a DataFrame df_orders(customer_id, order_date, revenue),\n",
        "# add a column order_rank that numbers each customer’s orders by recency (1 = newest).\n",
        "import pandas as pd\n",
        "\n",
        "df_orders = pd.DataFrame({\n",
        "    'customer_id': [1, 2, 1, 3, 2],\n",
        "    'order_date': pd.to_datetime(['2023-01-01', '2023-01-02', '2023-01-03', '2023-01-04', '2023-01-05']),\n",
        "    'revenue': [100, 200, 150, 300, 250]\n",
        "})\n",
        "\n",
        "df_orders['order_rank'] = df_orders.groupby('customer_id')['order_date'].rank(method='first', ascending=False)\n",
        "df_orders\n",
        "\n",
        "# This solution achieves an efficient way of ranking each customer's order\n",
        "# based on their most recent purchase using groupby and rank functions."
      ]
    },
    {
      "cell_type": "markdown",
      "metadata": {},
      "source": [
        "### Using pivot tables to convert long tables in wide form"
      ]
    },
    {
      "cell_type": "code",
      "execution_count": 13,
      "metadata": {},
      "outputs": [
        {
          "data": {
            "text/html": [
              "<div>\n",
              "<style scoped>\n",
              "    .dataframe tbody tr th:only-of-type {\n",
              "        vertical-align: middle;\n",
              "    }\n",
              "\n",
              "    .dataframe tbody tr th {\n",
              "        vertical-align: top;\n",
              "    }\n",
              "\n",
              "    .dataframe thead th {\n",
              "        text-align: right;\n",
              "    }\n",
              "</style>\n",
              "<table border=\"1\" class=\"dataframe\">\n",
              "  <thead>\n",
              "    <tr style=\"text-align: right;\">\n",
              "      <th>channel</th>\n",
              "      <th>order_date</th>\n",
              "      <th>branch</th>\n",
              "      <th>online</th>\n",
              "    </tr>\n",
              "  </thead>\n",
              "  <tbody>\n",
              "    <tr>\n",
              "      <th>0</th>\n",
              "      <td>2023-01-01</td>\n",
              "      <td>0</td>\n",
              "      <td>100</td>\n",
              "    </tr>\n",
              "    <tr>\n",
              "      <th>1</th>\n",
              "      <td>2023-01-02</td>\n",
              "      <td>200</td>\n",
              "      <td>0</td>\n",
              "    </tr>\n",
              "    <tr>\n",
              "      <th>2</th>\n",
              "      <td>2023-01-03</td>\n",
              "      <td>0</td>\n",
              "      <td>150</td>\n",
              "    </tr>\n",
              "    <tr>\n",
              "      <th>3</th>\n",
              "      <td>2023-01-04</td>\n",
              "      <td>0</td>\n",
              "      <td>300</td>\n",
              "    </tr>\n",
              "    <tr>\n",
              "      <th>4</th>\n",
              "      <td>2023-01-05</td>\n",
              "      <td>250</td>\n",
              "      <td>0</td>\n",
              "    </tr>\n",
              "  </tbody>\n",
              "</table>\n",
              "</div>"
            ],
            "text/plain": [
              "channel order_date  branch  online\n",
              "0       2023-01-01       0     100\n",
              "1       2023-01-02     200       0\n",
              "2       2023-01-03       0     150\n",
              "3       2023-01-04       0     300\n",
              "4       2023-01-05     250       0"
            ]
          },
          "execution_count": 13,
          "metadata": {},
          "output_type": "execute_result"
        }
      ],
      "source": [
        "daily_rev = (\n",
        "    df_orders\n",
        "      .assign(channel=np.where(df_orders.customer_id % 2, 'online', 'branch'))  # mock channel\n",
        "      .groupby(['order_date', 'channel']).revenue.sum()\n",
        "      .unstack(fill_value=0)\n",
        "      .reset_index()\n",
        ")\n",
        "daily_rev"
      ]
    },
    {
      "cell_type": "code",
      "execution_count": 69,
      "metadata": {},
      "outputs": [
        {
          "data": {
            "text/html": [
              "<div>\n",
              "<style scoped>\n",
              "    .dataframe tbody tr th:only-of-type {\n",
              "        vertical-align: middle;\n",
              "    }\n",
              "\n",
              "    .dataframe tbody tr th {\n",
              "        vertical-align: top;\n",
              "    }\n",
              "\n",
              "    .dataframe thead th {\n",
              "        text-align: right;\n",
              "    }\n",
              "</style>\n",
              "<table border=\"1\" class=\"dataframe\">\n",
              "  <thead>\n",
              "    <tr style=\"text-align: right;\">\n",
              "      <th></th>\n",
              "      <th>industry</th>\n",
              "      <th>delinquency_rate</th>\n",
              "    </tr>\n",
              "  </thead>\n",
              "  <tbody>\n",
              "    <tr>\n",
              "      <th>0</th>\n",
              "      <td>Retail</td>\n",
              "      <td>1.0</td>\n",
              "    </tr>\n",
              "    <tr>\n",
              "      <th>1</th>\n",
              "      <td>Tech</td>\n",
              "      <td>0.5</td>\n",
              "    </tr>\n",
              "    <tr>\n",
              "      <th>2</th>\n",
              "      <td>Manufacturing</td>\n",
              "      <td>0.0</td>\n",
              "    </tr>\n",
              "    <tr>\n",
              "      <th>3</th>\n",
              "      <td>Healthcare</td>\n",
              "      <td>0.0</td>\n",
              "    </tr>\n",
              "  </tbody>\n",
              "</table>\n",
              "</div>"
            ],
            "text/plain": [
              "        industry  delinquency_rate\n",
              "0         Retail               1.0\n",
              "1           Tech               0.5\n",
              "2  Manufacturing               0.0\n",
              "3     Healthcare               0.0"
            ]
          },
          "execution_count": 69,
          "metadata": {},
          "output_type": "execute_result"
        }
      ],
      "source": [
        "# Tasks\n",
        "# Compute delinquency_rate = (# delinquent / # loans) per industry.\n",
        "# Present the result sorted descending by rate.\n",
        "# In one sentence, describe a business implication JP Morgan might draw.\n",
        "\n",
        "data = {\n",
        "    'loan_id': range(1, 11),\n",
        "    'industry': ['Manufacturing','Retail','Healthcare','Manufacturing','Retail',\n",
        "                 'Tech','Tech','Healthcare','Retail','Manufacturing'],\n",
        "    'amount': [200,150,100,250,180,300,220,90,130,275],\n",
        "    'status': ['current','delinquent','current','current','delinquent',\n",
        "               'current','delinquent','current','delinquent','current']\n",
        "}\n",
        "df_loans = pd.DataFrame(data)\n",
        "\n",
        "df_loans['delinquency_rate'] = df_loans.groupby('industry')['status'].transform(lambda x: (x == 'delinquent').sum() / len(x))\n",
        "df_loans = df_loans[['industry', 'delinquency_rate']].drop_duplicates().sort_values(by='delinquency_rate', ascending=False).reset_index(drop=True)\n",
        "df_loans "
      ]
    },
    {
      "cell_type": "markdown",
      "metadata": {},
      "source": [
        "This shows that JPMC might need to take more caution in the retail sector given that they have a high delinquency rate."
      ]
    }
  ],
  "metadata": {
    "colab": {
      "provenance": []
    },
    "kernelspec": {
      "display_name": "Python 3",
      "language": "python",
      "name": "python3"
    },
    "language_info": {
      "codemirror_mode": {
        "name": "ipython",
        "version": 3
      },
      "file_extension": ".py",
      "mimetype": "text/x-python",
      "name": "python",
      "nbconvert_exporter": "python",
      "pygments_lexer": "ipython3",
      "version": "3.11.4"
    }
  },
  "nbformat": 4,
  "nbformat_minor": 0
}
